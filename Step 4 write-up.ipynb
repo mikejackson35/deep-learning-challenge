{
 "cells": [
  {
   "cell_type": "code",
   "execution_count": 1,
   "id": "b88a3249",
   "metadata": {},
   "outputs": [],
   "source": [
    "# OVERVIEW: model built to predict whether or not applicants for charity funding will be successful"
   ]
  },
  {
   "cell_type": "code",
   "execution_count": null,
   "id": "a9abcf16",
   "metadata": {},
   "outputs": [],
   "source": [
    "# RESULTS: \n",
    "\n",
    "    Data Preprocessing\n",
    "        Target: 'Is Successful'\n",
    "            \n",
    "        Features: all columns except 'Is Successful' & 'EIN'  (ended up using 'Name')\n",
    "            \n",
    "        Neither Targets nor Features to be removed: 'EIN'\n",
    "            \n",
    "    Compile, Train, Eval\n",
    "    \n",
    "        My best model used: 5 hidden layers, [5, 4, 3, 2, 2] nodes by layer, and a Sigmoid activation throughout\n",
    "            Why? After running 60 trials in a keras.tuner it became pretty clear that Sigmoids were having the most predictive effect. The most accurate attempts also seemed to have multiple layers so I was pointed in that direction as well. From there I just continued slowly adding nodes and tweaking count of layers.\n",
    "        \n",
    "        Achieve Target Performance? Yes, after going back to the beginning, adding the 'Name' column back, and doing some binning, I was able to achieve 80% accuracy.\n",
    "        \n",
    "        The most effective step I took increase model performace was adding back in the name column with some binnin\n",
    "        "
   ]
  }
 ],
 "metadata": {
  "kernelspec": {
   "display_name": "Python 3 (ipykernel)",
   "language": "python",
   "name": "python3"
  },
  "language_info": {
   "codemirror_mode": {
    "name": "ipython",
    "version": 3
   },
   "file_extension": ".py",
   "mimetype": "text/x-python",
   "name": "python",
   "nbconvert_exporter": "python",
   "pygments_lexer": "ipython3",
   "version": "3.9.7"
  }
 },
 "nbformat": 4,
 "nbformat_minor": 5
}
